{
 "cells": [
  {
   "cell_type": "code",
   "execution_count": 7,
   "metadata": {},
   "outputs": [],
   "source": [
    "from encapsulage import *\n",
    "from linear import *\n",
    "from module import *\n",
    "from softmax import *\n",
    "from tanh import *\n",
    "from utils import *\n",
    "from mltools import *\n",
    "\n",
    "import numpy as np\n",
    "import matplotlib.pyplot as plt\n",
    "import random as rd"
   ]
  },
  {
   "cell_type": "code",
   "execution_count": 8,
   "metadata": {},
   "outputs": [
    {
     "ename": "AttributeError",
     "evalue": "'Sigmoide' object has no attribute 'backward'",
     "output_type": "error",
     "traceback": [
      "\u001b[1;31m---------------------------------------------------------------------------\u001b[0m",
      "\u001b[1;31mAttributeError\u001b[0m                            Traceback (most recent call last)",
      "\u001b[1;32mc:\\Users\\nolwe\\Desktop\\ML\\ML-Projet\\ML-Projet\\testencapsulage.ipynb Cell 2\u001b[0m in \u001b[0;36m3\n\u001b[0;32m     <a href='vscode-notebook-cell:/c%3A/Users/nolwe/Desktop/ML/ML-Projet/ML-Projet/testencapsulage.ipynb#W1sZmlsZQ%3D%3D?line=32'>33</a>\u001b[0m \u001b[39mfor\u001b[39;00m i \u001b[39min\u001b[39;00m \u001b[39mrange\u001b[39m(nb_epochs):\n\u001b[0;32m     <a href='vscode-notebook-cell:/c%3A/Users/nolwe/Desktop/ML/ML-Projet/ML-Projet/testencapsulage.ipynb#W1sZmlsZQ%3D%3D?line=33'>34</a>\u001b[0m \t\u001b[39m# Tirage d'un batch de taille batch_size et mise-à-jour\u001b[39;00m\n\u001b[0;32m     <a href='vscode-notebook-cell:/c%3A/Users/nolwe/Desktop/ML/ML-Projet/ML-Projet/testencapsulage.ipynb#W1sZmlsZQ%3D%3D?line=34'>35</a>\u001b[0m             inds \u001b[39m=\u001b[39m [ rd\u001b[39m.\u001b[39mrandint(\u001b[39m0\u001b[39m, \u001b[39mlen\u001b[39m(datax[\u001b[39m0\u001b[39m]) \u001b[39m-\u001b[39m \u001b[39m1\u001b[39m) \u001b[39mfor\u001b[39;00m j \u001b[39min\u001b[39;00m \u001b[39mrange\u001b[39m(batch_size) ]\n\u001b[1;32m---> <a href='vscode-notebook-cell:/c%3A/Users/nolwe/Desktop/ML/ML-Projet/ML-Projet/testencapsulage.ipynb#W1sZmlsZQ%3D%3D?line=35'>36</a>\u001b[0m             optim\u001b[39m.\u001b[39;49mstep( datax[inds], datay[inds] )\n\u001b[0;32m     <a href='vscode-notebook-cell:/c%3A/Users/nolwe/Desktop/ML/ML-Projet/ML-Projet/testencapsulage.ipynb#W1sZmlsZQ%3D%3D?line=36'>37</a>\u001b[0m             list_loss\u001b[39m.\u001b[39mappend(np\u001b[39m.\u001b[39mmean( ce_loss\u001b[39m.\u001b[39mforward(datay, optim\u001b[39m.\u001b[39mpredict(datax)) ))\n",
      "File \u001b[1;32mc:\\Users\\nolwe\\Desktop\\ML\\ML-Projet\\ML-Projet\\encapsulage.py:70\u001b[0m, in \u001b[0;36mOptim.step\u001b[1;34m(self, batch_x, batch_y)\u001b[0m\n\u001b[0;32m     63\u001b[0m \u001b[39m\"\"\" Calcule la sortie du réseau, exécute la passe-backward et met à jour les paramètres du réseau.\u001b[39;00m\n\u001b[0;32m     64\u001b[0m \n\u001b[0;32m     65\u001b[0m \u001b[39mArgs:\u001b[39;00m\n\u001b[0;32m     66\u001b[0m \u001b[39m    batch_x (array): Batch d'apprentissage\u001b[39;00m\n\u001b[0;32m     67\u001b[0m \u001b[39m    batch_y (array): Étiquettes sur le batch d'apprentissage\u001b[39;00m\n\u001b[0;32m     68\u001b[0m \u001b[39m\"\"\"\u001b[39;00m\n\u001b[0;32m     69\u001b[0m \u001b[39m# Calcul de l'état du réseau (phase forward) et passe backward\u001b[39;00m\n\u001b[1;32m---> 70\u001b[0m activations, gradients \u001b[39m=\u001b[39m \u001b[39mself\u001b[39;49m\u001b[39m.\u001b[39;49msequentiel\u001b[39m.\u001b[39;49mfit(batch_x, batch_y)\n\u001b[0;32m     72\u001b[0m \u001b[39m# Passe backward et mise à jour des paramètres du réseau\u001b[39;00m\n\u001b[0;32m     73\u001b[0m \u001b[39mself\u001b[39m\u001b[39m.\u001b[39mnet[\u001b[39m0\u001b[39m]\u001b[39m.\u001b[39mbackward_update_gradient(batch_x, gradients[\u001b[39m-\u001b[39m\u001b[39m1\u001b[39m])\n",
      "File \u001b[1;32mc:\\Users\\nolwe\\Desktop\\ML\\ML-Projet\\ML-Projet\\encapsulage.py:38\u001b[0m, in \u001b[0;36mSequentiel.fit\u001b[1;34m(self, x_train, y_train)\u001b[0m\n\u001b[0;32m     36\u001b[0m gradients \u001b[39m=\u001b[39m [\u001b[39mself\u001b[39m\u001b[39m.\u001b[39mloss\u001b[39m.\u001b[39mbackward(y_train, activations[\u001b[39m-\u001b[39m\u001b[39m1\u001b[39m])]\n\u001b[0;32m     37\u001b[0m \u001b[39mfor\u001b[39;00m i \u001b[39min\u001b[39;00m \u001b[39mrange\u001b[39m(\u001b[39mlen\u001b[39m(\u001b[39mself\u001b[39m\u001b[39m.\u001b[39mmodules)\u001b[39m-\u001b[39m\u001b[39m1\u001b[39m, \u001b[39m0\u001b[39m, \u001b[39m-\u001b[39m\u001b[39m1\u001b[39m):\n\u001b[1;32m---> 38\u001b[0m \tgradients\u001b[39m.\u001b[39minsert(\u001b[39m0\u001b[39m, \u001b[39mself\u001b[39;49m\u001b[39m.\u001b[39;49mmodules[i]\u001b[39m.\u001b[39;49mbackward(activations[i\u001b[39m-\u001b[39m\u001b[39m1\u001b[39m], gradients[\u001b[39m0\u001b[39m]))\n\u001b[0;32m     40\u001b[0m \u001b[39mreturn\u001b[39;00m activations, gradients\n",
      "\u001b[1;31mAttributeError\u001b[0m: 'Sigmoide' object has no attribute 'backward'"
     ]
    }
   ],
   "source": [
    "# Génération de données quelconques \n",
    "datax, datay = gen_arti(data_type=1)  # mélange de 4 gaussiennes\n",
    "neuron = 10  # ou 10\n",
    "datay[datay < 0] = 0\n",
    "\n",
    "# Ajout d'un biais aux données\n",
    "datax = add_bias (datax)\n",
    "\n",
    "# Initialisation pour descente de gradient\n",
    "learning_rate = 0.01\n",
    "nb_epochs = 1000  # ou 1000\n",
    "batch_size = None\n",
    "if batch_size is None:\n",
    "\tbatch_size = len(datay)\n",
    "gradient_step=1e-5\n",
    "list_loss = []\n",
    "w1 = []\n",
    "w2 = []\n",
    "\n",
    "\n",
    "# Création du réseau\n",
    "ce_loss = CrossEntropySoftmax()\n",
    "linear1 = Linear(datax.shape[1], neuron)\n",
    "tan = TanH()\n",
    "linear2 = Linear(neuron, datay.shape[1])\n",
    "sigmoide = Sigmoide()\n",
    "\n",
    "net = [linear1, tan, linear2, sigmoide]\n",
    "\n",
    "# Apprentissage du réseau de neurones\n",
    "optim = Optim(net, ce_loss, gradient_step)\n",
    "\n",
    "for i in range(nb_epochs):\n",
    "\t# Tirage d'un batch de taille batch_size et mise-à-jour\n",
    "            inds = [ rd.randint(0, len(datax[0]) - 1) for j in range(batch_size) ]\n",
    "            optim.step( datax[inds], datay[inds] )\n",
    "            list_loss.append(np.mean( ce_loss.forward(datay, optim.predict(datax)) ))"
   ]
  }
 ],
 "metadata": {
  "kernelspec": {
   "display_name": "Python 3",
   "language": "python",
   "name": "python3"
  },
  "language_info": {
   "codemirror_mode": {
    "name": "ipython",
    "version": 3
   },
   "file_extension": ".py",
   "mimetype": "text/x-python",
   "name": "python",
   "nbconvert_exporter": "python",
   "pygments_lexer": "ipython3",
   "version": "3.10.2"
  },
  "orig_nbformat": 4
 },
 "nbformat": 4,
 "nbformat_minor": 2
}
